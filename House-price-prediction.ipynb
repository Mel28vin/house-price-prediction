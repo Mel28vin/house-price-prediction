{
  "nbformat": 4,
  "nbformat_minor": 0,
  "metadata": {
    "colab": {
      "provenance": []
    },
    "kernelspec": {
      "name": "python3",
      "display_name": "Python 3"
    },
    "language_info": {
      "name": "python"
    }
  },
  "cells": [
    {
      "cell_type": "code",
      "execution_count": null,
      "metadata": {
        "id": "R9HiOcb_hg58"
      },
      "outputs": [],
      "source": [
        "import numpy as  np\n",
        "import pandas as pd\n",
        "import seaborn as sns\n",
        "import matplotlib.pyplot as plt\n",
        "from sklearn.model_selection import train_test_split\n",
        "from sklearn.preprocessing import MinMaxScaler\n",
        "from sklearn.metrics import r2_score\n",
        "from sklearn.metrics import mean_absolute_error\n",
        "from tensorflow import keras\n",
        "from keras.models import Sequential\n",
        "from keras.layers import Dense\n",
        "from keras.callbacks import EarlyStopping\n",
        "from scipy import stats\n",
        "from scipy.stats import skew, norm"
      ]
    },
    {
      "cell_type": "markdown",
      "source": [
        "### Dataset Loading"
      ],
      "metadata": {
        "id": "ecTBnJuAlb71"
      }
    },
    {
      "cell_type": "code",
      "source": [
        "!pip install -q kaggle"
      ],
      "metadata": {
        "id": "y4sNfw--h49M"
      },
      "execution_count": null,
      "outputs": []
    },
    {
      "cell_type": "code",
      "source": [
        "!rm -rf ~/.kaggle\n",
        "!mkdir ~/.kaggle\n",
        "!cp /content/drive/MyDrive/kaggle.json ~/.kaggle/"
      ],
      "metadata": {
        "id": "qEr3njAwzdMc"
      },
      "execution_count": null,
      "outputs": []
    },
    {
      "cell_type": "code",
      "source": [
        "!kaggle datasets download -d mohamedafsal007/house-price-dataset-of-india"
      ],
      "metadata": {
        "colab": {
          "base_uri": "https://localhost:8080/"
        },
        "id": "FFXWM-ma1zUx",
        "outputId": "76b27528-dd6f-4532-cd16-f1d616a05a75"
      },
      "execution_count": null,
      "outputs": [
        {
          "output_type": "stream",
          "name": "stdout",
          "text": [
            "Downloading house-price-dataset-of-india.zip to /content\n",
            "\r  0% 0.00/480k [00:00<?, ?B/s]\n",
            "\r100% 480k/480k [00:00<00:00, 33.2MB/s]\n"
          ]
        }
      ]
    },
    {
      "cell_type": "code",
      "source": [
        "!unzip /content/house-price-dataset-of-india.zip"
      ],
      "metadata": {
        "colab": {
          "base_uri": "https://localhost:8080/"
        },
        "id": "KCRZZwAu2FR0",
        "outputId": "8545c6d0-e3e4-4e09-f65e-e3ad4358c127"
      },
      "execution_count": null,
      "outputs": [
        {
          "output_type": "stream",
          "name": "stdout",
          "text": [
            "Archive:  /content/house-price-dataset-of-india.zip\n",
            "  inflating: House Price India.csv   \n"
          ]
        }
      ]
    },
    {
      "cell_type": "code",
      "source": [
        "df = pd.read_csv('House Price India.csv')\n",
        "df.head()"
      ],
      "metadata": {
        "colab": {
          "base_uri": "https://localhost:8080/",
          "height": 352
        },
        "id": "7MgWfglA2L2K",
        "outputId": "1ec81f71-63d7-4df5-8b5b-486a68b3a3ee"
      },
      "execution_count": null,
      "outputs": [
        {
          "output_type": "execute_result",
          "data": {
            "text/plain": [
              "           id   Date  number of bedrooms  number of bathrooms  living area  \\\n",
              "0  6762810145  42491                   5                 2.50         3650   \n",
              "1  6762810635  42491                   4                 2.50         2920   \n",
              "2  6762810998  42491                   5                 2.75         2910   \n",
              "3  6762812605  42491                   4                 2.50         3310   \n",
              "4  6762812919  42491                   3                 2.00         2710   \n",
              "\n",
              "   lot area  number of floors  waterfront present  number of views  \\\n",
              "0      9050               2.0                   0                4   \n",
              "1      4000               1.5                   0                0   \n",
              "2      9480               1.5                   0                0   \n",
              "3     42998               2.0                   0                0   \n",
              "4      4500               1.5                   0                0   \n",
              "\n",
              "   condition of the house  ...  Built Year  Renovation Year  Postal Code  \\\n",
              "0                       5  ...        1921                0       122003   \n",
              "1                       5  ...        1909                0       122004   \n",
              "2                       3  ...        1939                0       122004   \n",
              "3                       3  ...        2001                0       122005   \n",
              "4                       4  ...        1929                0       122006   \n",
              "\n",
              "   Lattitude  Longitude  living_area_renov  lot_area_renov  \\\n",
              "0    52.8645   -114.557               2880            5400   \n",
              "1    52.8878   -114.470               2470            4000   \n",
              "2    52.8852   -114.468               2940            6600   \n",
              "3    52.9532   -114.321               3350           42847   \n",
              "4    52.9047   -114.485               2060            4500   \n",
              "\n",
              "   Number of schools nearby  Distance from the airport    Price  \n",
              "0                         2                         58  2380000  \n",
              "1                         2                         51  1400000  \n",
              "2                         1                         53  1200000  \n",
              "3                         3                         76   838000  \n",
              "4                         1                         51   805000  \n",
              "\n",
              "[5 rows x 23 columns]"
            ],
            "text/html": [
              "\n",
              "  <div id=\"df-324d59dc-9b46-4da9-8c99-6ab30e7f025e\">\n",
              "    <div class=\"colab-df-container\">\n",
              "      <div>\n",
              "<style scoped>\n",
              "    .dataframe tbody tr th:only-of-type {\n",
              "        vertical-align: middle;\n",
              "    }\n",
              "\n",
              "    .dataframe tbody tr th {\n",
              "        vertical-align: top;\n",
              "    }\n",
              "\n",
              "    .dataframe thead th {\n",
              "        text-align: right;\n",
              "    }\n",
              "</style>\n",
              "<table border=\"1\" class=\"dataframe\">\n",
              "  <thead>\n",
              "    <tr style=\"text-align: right;\">\n",
              "      <th></th>\n",
              "      <th>id</th>\n",
              "      <th>Date</th>\n",
              "      <th>number of bedrooms</th>\n",
              "      <th>number of bathrooms</th>\n",
              "      <th>living area</th>\n",
              "      <th>lot area</th>\n",
              "      <th>number of floors</th>\n",
              "      <th>waterfront present</th>\n",
              "      <th>number of views</th>\n",
              "      <th>condition of the house</th>\n",
              "      <th>...</th>\n",
              "      <th>Built Year</th>\n",
              "      <th>Renovation Year</th>\n",
              "      <th>Postal Code</th>\n",
              "      <th>Lattitude</th>\n",
              "      <th>Longitude</th>\n",
              "      <th>living_area_renov</th>\n",
              "      <th>lot_area_renov</th>\n",
              "      <th>Number of schools nearby</th>\n",
              "      <th>Distance from the airport</th>\n",
              "      <th>Price</th>\n",
              "    </tr>\n",
              "  </thead>\n",
              "  <tbody>\n",
              "    <tr>\n",
              "      <th>0</th>\n",
              "      <td>6762810145</td>\n",
              "      <td>42491</td>\n",
              "      <td>5</td>\n",
              "      <td>2.50</td>\n",
              "      <td>3650</td>\n",
              "      <td>9050</td>\n",
              "      <td>2.0</td>\n",
              "      <td>0</td>\n",
              "      <td>4</td>\n",
              "      <td>5</td>\n",
              "      <td>...</td>\n",
              "      <td>1921</td>\n",
              "      <td>0</td>\n",
              "      <td>122003</td>\n",
              "      <td>52.8645</td>\n",
              "      <td>-114.557</td>\n",
              "      <td>2880</td>\n",
              "      <td>5400</td>\n",
              "      <td>2</td>\n",
              "      <td>58</td>\n",
              "      <td>2380000</td>\n",
              "    </tr>\n",
              "    <tr>\n",
              "      <th>1</th>\n",
              "      <td>6762810635</td>\n",
              "      <td>42491</td>\n",
              "      <td>4</td>\n",
              "      <td>2.50</td>\n",
              "      <td>2920</td>\n",
              "      <td>4000</td>\n",
              "      <td>1.5</td>\n",
              "      <td>0</td>\n",
              "      <td>0</td>\n",
              "      <td>5</td>\n",
              "      <td>...</td>\n",
              "      <td>1909</td>\n",
              "      <td>0</td>\n",
              "      <td>122004</td>\n",
              "      <td>52.8878</td>\n",
              "      <td>-114.470</td>\n",
              "      <td>2470</td>\n",
              "      <td>4000</td>\n",
              "      <td>2</td>\n",
              "      <td>51</td>\n",
              "      <td>1400000</td>\n",
              "    </tr>\n",
              "    <tr>\n",
              "      <th>2</th>\n",
              "      <td>6762810998</td>\n",
              "      <td>42491</td>\n",
              "      <td>5</td>\n",
              "      <td>2.75</td>\n",
              "      <td>2910</td>\n",
              "      <td>9480</td>\n",
              "      <td>1.5</td>\n",
              "      <td>0</td>\n",
              "      <td>0</td>\n",
              "      <td>3</td>\n",
              "      <td>...</td>\n",
              "      <td>1939</td>\n",
              "      <td>0</td>\n",
              "      <td>122004</td>\n",
              "      <td>52.8852</td>\n",
              "      <td>-114.468</td>\n",
              "      <td>2940</td>\n",
              "      <td>6600</td>\n",
              "      <td>1</td>\n",
              "      <td>53</td>\n",
              "      <td>1200000</td>\n",
              "    </tr>\n",
              "    <tr>\n",
              "      <th>3</th>\n",
              "      <td>6762812605</td>\n",
              "      <td>42491</td>\n",
              "      <td>4</td>\n",
              "      <td>2.50</td>\n",
              "      <td>3310</td>\n",
              "      <td>42998</td>\n",
              "      <td>2.0</td>\n",
              "      <td>0</td>\n",
              "      <td>0</td>\n",
              "      <td>3</td>\n",
              "      <td>...</td>\n",
              "      <td>2001</td>\n",
              "      <td>0</td>\n",
              "      <td>122005</td>\n",
              "      <td>52.9532</td>\n",
              "      <td>-114.321</td>\n",
              "      <td>3350</td>\n",
              "      <td>42847</td>\n",
              "      <td>3</td>\n",
              "      <td>76</td>\n",
              "      <td>838000</td>\n",
              "    </tr>\n",
              "    <tr>\n",
              "      <th>4</th>\n",
              "      <td>6762812919</td>\n",
              "      <td>42491</td>\n",
              "      <td>3</td>\n",
              "      <td>2.00</td>\n",
              "      <td>2710</td>\n",
              "      <td>4500</td>\n",
              "      <td>1.5</td>\n",
              "      <td>0</td>\n",
              "      <td>0</td>\n",
              "      <td>4</td>\n",
              "      <td>...</td>\n",
              "      <td>1929</td>\n",
              "      <td>0</td>\n",
              "      <td>122006</td>\n",
              "      <td>52.9047</td>\n",
              "      <td>-114.485</td>\n",
              "      <td>2060</td>\n",
              "      <td>4500</td>\n",
              "      <td>1</td>\n",
              "      <td>51</td>\n",
              "      <td>805000</td>\n",
              "    </tr>\n",
              "  </tbody>\n",
              "</table>\n",
              "<p>5 rows × 23 columns</p>\n",
              "</div>\n",
              "      <button class=\"colab-df-convert\" onclick=\"convertToInteractive('df-324d59dc-9b46-4da9-8c99-6ab30e7f025e')\"\n",
              "              title=\"Convert this dataframe to an interactive table.\"\n",
              "              style=\"display:none;\">\n",
              "        \n",
              "  <svg xmlns=\"http://www.w3.org/2000/svg\" height=\"24px\"viewBox=\"0 0 24 24\"\n",
              "       width=\"24px\">\n",
              "    <path d=\"M0 0h24v24H0V0z\" fill=\"none\"/>\n",
              "    <path d=\"M18.56 5.44l.94 2.06.94-2.06 2.06-.94-2.06-.94-.94-2.06-.94 2.06-2.06.94zm-11 1L8.5 8.5l.94-2.06 2.06-.94-2.06-.94L8.5 2.5l-.94 2.06-2.06.94zm10 10l.94 2.06.94-2.06 2.06-.94-2.06-.94-.94-2.06-.94 2.06-2.06.94z\"/><path d=\"M17.41 7.96l-1.37-1.37c-.4-.4-.92-.59-1.43-.59-.52 0-1.04.2-1.43.59L10.3 9.45l-7.72 7.72c-.78.78-.78 2.05 0 2.83L4 21.41c.39.39.9.59 1.41.59.51 0 1.02-.2 1.41-.59l7.78-7.78 2.81-2.81c.8-.78.8-2.07 0-2.86zM5.41 20L4 18.59l7.72-7.72 1.47 1.35L5.41 20z\"/>\n",
              "  </svg>\n",
              "      </button>\n",
              "      \n",
              "  <style>\n",
              "    .colab-df-container {\n",
              "      display:flex;\n",
              "      flex-wrap:wrap;\n",
              "      gap: 12px;\n",
              "    }\n",
              "\n",
              "    .colab-df-convert {\n",
              "      background-color: #E8F0FE;\n",
              "      border: none;\n",
              "      border-radius: 50%;\n",
              "      cursor: pointer;\n",
              "      display: none;\n",
              "      fill: #1967D2;\n",
              "      height: 32px;\n",
              "      padding: 0 0 0 0;\n",
              "      width: 32px;\n",
              "    }\n",
              "\n",
              "    .colab-df-convert:hover {\n",
              "      background-color: #E2EBFA;\n",
              "      box-shadow: 0px 1px 2px rgba(60, 64, 67, 0.3), 0px 1px 3px 1px rgba(60, 64, 67, 0.15);\n",
              "      fill: #174EA6;\n",
              "    }\n",
              "\n",
              "    [theme=dark] .colab-df-convert {\n",
              "      background-color: #3B4455;\n",
              "      fill: #D2E3FC;\n",
              "    }\n",
              "\n",
              "    [theme=dark] .colab-df-convert:hover {\n",
              "      background-color: #434B5C;\n",
              "      box-shadow: 0px 1px 3px 1px rgba(0, 0, 0, 0.15);\n",
              "      filter: drop-shadow(0px 1px 2px rgba(0, 0, 0, 0.3));\n",
              "      fill: #FFFFFF;\n",
              "    }\n",
              "  </style>\n",
              "\n",
              "      <script>\n",
              "        const buttonEl =\n",
              "          document.querySelector('#df-324d59dc-9b46-4da9-8c99-6ab30e7f025e button.colab-df-convert');\n",
              "        buttonEl.style.display =\n",
              "          google.colab.kernel.accessAllowed ? 'block' : 'none';\n",
              "\n",
              "        async function convertToInteractive(key) {\n",
              "          const element = document.querySelector('#df-324d59dc-9b46-4da9-8c99-6ab30e7f025e');\n",
              "          const dataTable =\n",
              "            await google.colab.kernel.invokeFunction('convertToInteractive',\n",
              "                                                     [key], {});\n",
              "          if (!dataTable) return;\n",
              "\n",
              "          const docLinkHtml = 'Like what you see? Visit the ' +\n",
              "            '<a target=\"_blank\" href=https://colab.research.google.com/notebooks/data_table.ipynb>data table notebook</a>'\n",
              "            + ' to learn more about interactive tables.';\n",
              "          element.innerHTML = '';\n",
              "          dataTable['output_type'] = 'display_data';\n",
              "          await google.colab.output.renderOutput(dataTable, element);\n",
              "          const docLink = document.createElement('div');\n",
              "          docLink.innerHTML = docLinkHtml;\n",
              "          element.appendChild(docLink);\n",
              "        }\n",
              "      </script>\n",
              "    </div>\n",
              "  </div>\n",
              "  "
            ]
          },
          "metadata": {},
          "execution_count": 167
        }
      ]
    },
    {
      "cell_type": "code",
      "source": [
        "df.info()"
      ],
      "metadata": {
        "colab": {
          "base_uri": "https://localhost:8080/"
        },
        "id": "z-sBit9DiTyW",
        "outputId": "bdf89f16-3fe2-41ae-cd68-81de1faec22b"
      },
      "execution_count": null,
      "outputs": [
        {
          "output_type": "stream",
          "name": "stdout",
          "text": [
            "<class 'pandas.core.frame.DataFrame'>\n",
            "RangeIndex: 14620 entries, 0 to 14619\n",
            "Data columns (total 23 columns):\n",
            " #   Column                                 Non-Null Count  Dtype  \n",
            "---  ------                                 --------------  -----  \n",
            " 0   id                                     14620 non-null  int64  \n",
            " 1   Date                                   14620 non-null  int64  \n",
            " 2   number of bedrooms                     14620 non-null  int64  \n",
            " 3   number of bathrooms                    14620 non-null  float64\n",
            " 4   living area                            14620 non-null  int64  \n",
            " 5   lot area                               14620 non-null  int64  \n",
            " 6   number of floors                       14620 non-null  float64\n",
            " 7   waterfront present                     14620 non-null  int64  \n",
            " 8   number of views                        14620 non-null  int64  \n",
            " 9   condition of the house                 14620 non-null  int64  \n",
            " 10  grade of the house                     14620 non-null  int64  \n",
            " 11  Area of the house(excluding basement)  14620 non-null  int64  \n",
            " 12  Area of the basement                   14620 non-null  int64  \n",
            " 13  Built Year                             14620 non-null  int64  \n",
            " 14  Renovation Year                        14620 non-null  int64  \n",
            " 15  Postal Code                            14620 non-null  int64  \n",
            " 16  Lattitude                              14620 non-null  float64\n",
            " 17  Longitude                              14620 non-null  float64\n",
            " 18  living_area_renov                      14620 non-null  int64  \n",
            " 19  lot_area_renov                         14620 non-null  int64  \n",
            " 20  Number of schools nearby               14620 non-null  int64  \n",
            " 21  Distance from the airport              14620 non-null  int64  \n",
            " 22  Price                                  14620 non-null  int64  \n",
            "dtypes: float64(4), int64(19)\n",
            "memory usage: 2.6 MB\n"
          ]
        }
      ]
    },
    {
      "cell_type": "markdown",
      "source": [
        "### Data Preprocessing\n"
      ],
      "metadata": {
        "id": "Oxot3kDMjFNm"
      }
    },
    {
      "cell_type": "code",
      "source": [
        "# Null checking\n",
        "df.isnull().any()"
      ],
      "metadata": {
        "colab": {
          "base_uri": "https://localhost:8080/"
        },
        "id": "-cU5grFrjAtK",
        "outputId": "45410b21-a003-48ee-8b6e-2cca4a0a1f8e"
      },
      "execution_count": null,
      "outputs": [
        {
          "output_type": "execute_result",
          "data": {
            "text/plain": [
              "id                                       False\n",
              "Date                                     False\n",
              "number of bedrooms                       False\n",
              "number of bathrooms                      False\n",
              "living area                              False\n",
              "lot area                                 False\n",
              "number of floors                         False\n",
              "waterfront present                       False\n",
              "number of views                          False\n",
              "condition of the house                   False\n",
              "grade of the house                       False\n",
              "Area of the house(excluding basement)    False\n",
              "Area of the basement                     False\n",
              "Built Year                               False\n",
              "Renovation Year                          False\n",
              "Postal Code                              False\n",
              "Lattitude                                False\n",
              "Longitude                                False\n",
              "living_area_renov                        False\n",
              "lot_area_renov                           False\n",
              "Number of schools nearby                 False\n",
              "Distance from the airport                False\n",
              "Price                                    False\n",
              "dtype: bool"
            ]
          },
          "metadata": {},
          "execution_count": 37
        }
      ]
    },
    {
      "cell_type": "code",
      "source": [
        "# Removing the Date column as instructed in the dataset\n",
        "df = df.drop([\"Date\"], axis = 1)"
      ],
      "metadata": {
        "id": "tGrn6jfojQlb"
      },
      "execution_count": null,
      "outputs": []
    },
    {
      "cell_type": "code",
      "source": [
        "df.head()"
      ],
      "metadata": {
        "colab": {
          "base_uri": "https://localhost:8080/",
          "height": 352
        },
        "id": "0P8OroL3jgen",
        "outputId": "3effbb12-f229-4a48-ede0-7643aebf1919"
      },
      "execution_count": null,
      "outputs": [
        {
          "output_type": "execute_result",
          "data": {
            "text/plain": [
              "           id  number of bedrooms  number of bathrooms  living area  lot area  \\\n",
              "0  6762810145                   5                 2.50         3650      9050   \n",
              "1  6762810635                   4                 2.50         2920      4000   \n",
              "2  6762810998                   5                 2.75         2910      9480   \n",
              "3  6762812605                   4                 2.50         3310     42998   \n",
              "4  6762812919                   3                 2.00         2710      4500   \n",
              "\n",
              "   number of floors  waterfront present  number of views  \\\n",
              "0               2.0                   0                4   \n",
              "1               1.5                   0                0   \n",
              "2               1.5                   0                0   \n",
              "3               2.0                   0                0   \n",
              "4               1.5                   0                0   \n",
              "\n",
              "   condition of the house  grade of the house  ...  Built Year  \\\n",
              "0                       5                  10  ...        1921   \n",
              "1                       5                   8  ...        1909   \n",
              "2                       3                   8  ...        1939   \n",
              "3                       3                   9  ...        2001   \n",
              "4                       4                   8  ...        1929   \n",
              "\n",
              "   Renovation Year  Postal Code  Lattitude  Longitude  living_area_renov  \\\n",
              "0                0       122003    52.8645   -114.557               2880   \n",
              "1                0       122004    52.8878   -114.470               2470   \n",
              "2                0       122004    52.8852   -114.468               2940   \n",
              "3                0       122005    52.9532   -114.321               3350   \n",
              "4                0       122006    52.9047   -114.485               2060   \n",
              "\n",
              "   lot_area_renov  Number of schools nearby  Distance from the airport  \\\n",
              "0            5400                         2                         58   \n",
              "1            4000                         2                         51   \n",
              "2            6600                         1                         53   \n",
              "3           42847                         3                         76   \n",
              "4            4500                         1                         51   \n",
              "\n",
              "     Price  \n",
              "0  2380000  \n",
              "1  1400000  \n",
              "2  1200000  \n",
              "3   838000  \n",
              "4   805000  \n",
              "\n",
              "[5 rows x 22 columns]"
            ],
            "text/html": [
              "\n",
              "  <div id=\"df-4bad9469-fbf2-47ae-a2c9-23d485f5ff95\">\n",
              "    <div class=\"colab-df-container\">\n",
              "      <div>\n",
              "<style scoped>\n",
              "    .dataframe tbody tr th:only-of-type {\n",
              "        vertical-align: middle;\n",
              "    }\n",
              "\n",
              "    .dataframe tbody tr th {\n",
              "        vertical-align: top;\n",
              "    }\n",
              "\n",
              "    .dataframe thead th {\n",
              "        text-align: right;\n",
              "    }\n",
              "</style>\n",
              "<table border=\"1\" class=\"dataframe\">\n",
              "  <thead>\n",
              "    <tr style=\"text-align: right;\">\n",
              "      <th></th>\n",
              "      <th>id</th>\n",
              "      <th>number of bedrooms</th>\n",
              "      <th>number of bathrooms</th>\n",
              "      <th>living area</th>\n",
              "      <th>lot area</th>\n",
              "      <th>number of floors</th>\n",
              "      <th>waterfront present</th>\n",
              "      <th>number of views</th>\n",
              "      <th>condition of the house</th>\n",
              "      <th>grade of the house</th>\n",
              "      <th>...</th>\n",
              "      <th>Built Year</th>\n",
              "      <th>Renovation Year</th>\n",
              "      <th>Postal Code</th>\n",
              "      <th>Lattitude</th>\n",
              "      <th>Longitude</th>\n",
              "      <th>living_area_renov</th>\n",
              "      <th>lot_area_renov</th>\n",
              "      <th>Number of schools nearby</th>\n",
              "      <th>Distance from the airport</th>\n",
              "      <th>Price</th>\n",
              "    </tr>\n",
              "  </thead>\n",
              "  <tbody>\n",
              "    <tr>\n",
              "      <th>0</th>\n",
              "      <td>6762810145</td>\n",
              "      <td>5</td>\n",
              "      <td>2.50</td>\n",
              "      <td>3650</td>\n",
              "      <td>9050</td>\n",
              "      <td>2.0</td>\n",
              "      <td>0</td>\n",
              "      <td>4</td>\n",
              "      <td>5</td>\n",
              "      <td>10</td>\n",
              "      <td>...</td>\n",
              "      <td>1921</td>\n",
              "      <td>0</td>\n",
              "      <td>122003</td>\n",
              "      <td>52.8645</td>\n",
              "      <td>-114.557</td>\n",
              "      <td>2880</td>\n",
              "      <td>5400</td>\n",
              "      <td>2</td>\n",
              "      <td>58</td>\n",
              "      <td>2380000</td>\n",
              "    </tr>\n",
              "    <tr>\n",
              "      <th>1</th>\n",
              "      <td>6762810635</td>\n",
              "      <td>4</td>\n",
              "      <td>2.50</td>\n",
              "      <td>2920</td>\n",
              "      <td>4000</td>\n",
              "      <td>1.5</td>\n",
              "      <td>0</td>\n",
              "      <td>0</td>\n",
              "      <td>5</td>\n",
              "      <td>8</td>\n",
              "      <td>...</td>\n",
              "      <td>1909</td>\n",
              "      <td>0</td>\n",
              "      <td>122004</td>\n",
              "      <td>52.8878</td>\n",
              "      <td>-114.470</td>\n",
              "      <td>2470</td>\n",
              "      <td>4000</td>\n",
              "      <td>2</td>\n",
              "      <td>51</td>\n",
              "      <td>1400000</td>\n",
              "    </tr>\n",
              "    <tr>\n",
              "      <th>2</th>\n",
              "      <td>6762810998</td>\n",
              "      <td>5</td>\n",
              "      <td>2.75</td>\n",
              "      <td>2910</td>\n",
              "      <td>9480</td>\n",
              "      <td>1.5</td>\n",
              "      <td>0</td>\n",
              "      <td>0</td>\n",
              "      <td>3</td>\n",
              "      <td>8</td>\n",
              "      <td>...</td>\n",
              "      <td>1939</td>\n",
              "      <td>0</td>\n",
              "      <td>122004</td>\n",
              "      <td>52.8852</td>\n",
              "      <td>-114.468</td>\n",
              "      <td>2940</td>\n",
              "      <td>6600</td>\n",
              "      <td>1</td>\n",
              "      <td>53</td>\n",
              "      <td>1200000</td>\n",
              "    </tr>\n",
              "    <tr>\n",
              "      <th>3</th>\n",
              "      <td>6762812605</td>\n",
              "      <td>4</td>\n",
              "      <td>2.50</td>\n",
              "      <td>3310</td>\n",
              "      <td>42998</td>\n",
              "      <td>2.0</td>\n",
              "      <td>0</td>\n",
              "      <td>0</td>\n",
              "      <td>3</td>\n",
              "      <td>9</td>\n",
              "      <td>...</td>\n",
              "      <td>2001</td>\n",
              "      <td>0</td>\n",
              "      <td>122005</td>\n",
              "      <td>52.9532</td>\n",
              "      <td>-114.321</td>\n",
              "      <td>3350</td>\n",
              "      <td>42847</td>\n",
              "      <td>3</td>\n",
              "      <td>76</td>\n",
              "      <td>838000</td>\n",
              "    </tr>\n",
              "    <tr>\n",
              "      <th>4</th>\n",
              "      <td>6762812919</td>\n",
              "      <td>3</td>\n",
              "      <td>2.00</td>\n",
              "      <td>2710</td>\n",
              "      <td>4500</td>\n",
              "      <td>1.5</td>\n",
              "      <td>0</td>\n",
              "      <td>0</td>\n",
              "      <td>4</td>\n",
              "      <td>8</td>\n",
              "      <td>...</td>\n",
              "      <td>1929</td>\n",
              "      <td>0</td>\n",
              "      <td>122006</td>\n",
              "      <td>52.9047</td>\n",
              "      <td>-114.485</td>\n",
              "      <td>2060</td>\n",
              "      <td>4500</td>\n",
              "      <td>1</td>\n",
              "      <td>51</td>\n",
              "      <td>805000</td>\n",
              "    </tr>\n",
              "  </tbody>\n",
              "</table>\n",
              "<p>5 rows × 22 columns</p>\n",
              "</div>\n",
              "      <button class=\"colab-df-convert\" onclick=\"convertToInteractive('df-4bad9469-fbf2-47ae-a2c9-23d485f5ff95')\"\n",
              "              title=\"Convert this dataframe to an interactive table.\"\n",
              "              style=\"display:none;\">\n",
              "        \n",
              "  <svg xmlns=\"http://www.w3.org/2000/svg\" height=\"24px\"viewBox=\"0 0 24 24\"\n",
              "       width=\"24px\">\n",
              "    <path d=\"M0 0h24v24H0V0z\" fill=\"none\"/>\n",
              "    <path d=\"M18.56 5.44l.94 2.06.94-2.06 2.06-.94-2.06-.94-.94-2.06-.94 2.06-2.06.94zm-11 1L8.5 8.5l.94-2.06 2.06-.94-2.06-.94L8.5 2.5l-.94 2.06-2.06.94zm10 10l.94 2.06.94-2.06 2.06-.94-2.06-.94-.94-2.06-.94 2.06-2.06.94z\"/><path d=\"M17.41 7.96l-1.37-1.37c-.4-.4-.92-.59-1.43-.59-.52 0-1.04.2-1.43.59L10.3 9.45l-7.72 7.72c-.78.78-.78 2.05 0 2.83L4 21.41c.39.39.9.59 1.41.59.51 0 1.02-.2 1.41-.59l7.78-7.78 2.81-2.81c.8-.78.8-2.07 0-2.86zM5.41 20L4 18.59l7.72-7.72 1.47 1.35L5.41 20z\"/>\n",
              "  </svg>\n",
              "      </button>\n",
              "      \n",
              "  <style>\n",
              "    .colab-df-container {\n",
              "      display:flex;\n",
              "      flex-wrap:wrap;\n",
              "      gap: 12px;\n",
              "    }\n",
              "\n",
              "    .colab-df-convert {\n",
              "      background-color: #E8F0FE;\n",
              "      border: none;\n",
              "      border-radius: 50%;\n",
              "      cursor: pointer;\n",
              "      display: none;\n",
              "      fill: #1967D2;\n",
              "      height: 32px;\n",
              "      padding: 0 0 0 0;\n",
              "      width: 32px;\n",
              "    }\n",
              "\n",
              "    .colab-df-convert:hover {\n",
              "      background-color: #E2EBFA;\n",
              "      box-shadow: 0px 1px 2px rgba(60, 64, 67, 0.3), 0px 1px 3px 1px rgba(60, 64, 67, 0.15);\n",
              "      fill: #174EA6;\n",
              "    }\n",
              "\n",
              "    [theme=dark] .colab-df-convert {\n",
              "      background-color: #3B4455;\n",
              "      fill: #D2E3FC;\n",
              "    }\n",
              "\n",
              "    [theme=dark] .colab-df-convert:hover {\n",
              "      background-color: #434B5C;\n",
              "      box-shadow: 0px 1px 3px 1px rgba(0, 0, 0, 0.15);\n",
              "      filter: drop-shadow(0px 1px 2px rgba(0, 0, 0, 0.3));\n",
              "      fill: #FFFFFF;\n",
              "    }\n",
              "  </style>\n",
              "\n",
              "      <script>\n",
              "        const buttonEl =\n",
              "          document.querySelector('#df-4bad9469-fbf2-47ae-a2c9-23d485f5ff95 button.colab-df-convert');\n",
              "        buttonEl.style.display =\n",
              "          google.colab.kernel.accessAllowed ? 'block' : 'none';\n",
              "\n",
              "        async function convertToInteractive(key) {\n",
              "          const element = document.querySelector('#df-4bad9469-fbf2-47ae-a2c9-23d485f5ff95');\n",
              "          const dataTable =\n",
              "            await google.colab.kernel.invokeFunction('convertToInteractive',\n",
              "                                                     [key], {});\n",
              "          if (!dataTable) return;\n",
              "\n",
              "          const docLinkHtml = 'Like what you see? Visit the ' +\n",
              "            '<a target=\"_blank\" href=https://colab.research.google.com/notebooks/data_table.ipynb>data table notebook</a>'\n",
              "            + ' to learn more about interactive tables.';\n",
              "          element.innerHTML = '';\n",
              "          dataTable['output_type'] = 'display_data';\n",
              "          await google.colab.output.renderOutput(dataTable, element);\n",
              "          const docLink = document.createElement('div');\n",
              "          docLink.innerHTML = docLinkHtml;\n",
              "          element.appendChild(docLink);\n",
              "        }\n",
              "      </script>\n",
              "    </div>\n",
              "  </div>\n",
              "  "
            ]
          },
          "metadata": {},
          "execution_count": 122
        }
      ]
    },
    {
      "cell_type": "code",
      "source": [
        "# Converting the 'number of bathrooms' into int64 type\n",
        "df[\"number of bathrooms\"] = df[\"number of bathrooms\"].astype(np.int64)"
      ],
      "metadata": {
        "id": "SY0jfG2jj2tC"
      },
      "execution_count": null,
      "outputs": []
    },
    {
      "cell_type": "code",
      "source": [
        "# Converting the 'number of floors' into int64 type\n",
        "df[\"number of floors\"] = df[\"number of floors\"].astype(np.int64)"
      ],
      "metadata": {
        "id": "uwLUp9l_kjNo"
      },
      "execution_count": null,
      "outputs": []
    },
    {
      "cell_type": "code",
      "source": [
        "df.info()"
      ],
      "metadata": {
        "colab": {
          "base_uri": "https://localhost:8080/"
        },
        "id": "0dWPTAVbkq7g",
        "outputId": "9dcbf023-0cdc-4c52-8738-0cd2624ec66a"
      },
      "execution_count": null,
      "outputs": [
        {
          "output_type": "stream",
          "name": "stdout",
          "text": [
            "<class 'pandas.core.frame.DataFrame'>\n",
            "RangeIndex: 14620 entries, 0 to 14619\n",
            "Data columns (total 22 columns):\n",
            " #   Column                                 Non-Null Count  Dtype  \n",
            "---  ------                                 --------------  -----  \n",
            " 0   id                                     14620 non-null  int64  \n",
            " 1   number of bedrooms                     14620 non-null  int64  \n",
            " 2   number of bathrooms                    14620 non-null  int64  \n",
            " 3   living area                            14620 non-null  int64  \n",
            " 4   lot area                               14620 non-null  int64  \n",
            " 5   number of floors                       14620 non-null  int64  \n",
            " 6   waterfront present                     14620 non-null  int64  \n",
            " 7   number of views                        14620 non-null  int64  \n",
            " 8   condition of the house                 14620 non-null  int64  \n",
            " 9   grade of the house                     14620 non-null  int64  \n",
            " 10  Area of the house(excluding basement)  14620 non-null  int64  \n",
            " 11  Area of the basement                   14620 non-null  int64  \n",
            " 12  Built Year                             14620 non-null  int64  \n",
            " 13  Renovation Year                        14620 non-null  int64  \n",
            " 14  Postal Code                            14620 non-null  int64  \n",
            " 15  Lattitude                              14620 non-null  float64\n",
            " 16  Longitude                              14620 non-null  float64\n",
            " 17  living_area_renov                      14620 non-null  int64  \n",
            " 18  lot_area_renov                         14620 non-null  int64  \n",
            " 19  Number of schools nearby               14620 non-null  int64  \n",
            " 20  Distance from the airport              14620 non-null  int64  \n",
            " 21  Price                                  14620 non-null  int64  \n",
            "dtypes: float64(2), int64(20)\n",
            "memory usage: 2.5 MB\n"
          ]
        }
      ]
    },
    {
      "cell_type": "code",
      "source": [
        "sns.boxplot(df.Price)"
      ],
      "metadata": {
        "colab": {
          "base_uri": "https://localhost:8080/",
          "height": 462
        },
        "id": "pfx_PBuFXRER",
        "outputId": "791f43f4-1e14-48a9-b1e6-ea8f39919d93"
      },
      "execution_count": null,
      "outputs": [
        {
          "output_type": "execute_result",
          "data": {
            "text/plain": [
              "<Axes: >"
            ]
          },
          "metadata": {},
          "execution_count": 171
        },
        {
          "output_type": "display_data",
          "data": {
            "text/plain": [
              "<Figure size 640x480 with 1 Axes>"
            ],
            "image/png": "[encoded data removed]"
          },
          "metadata": {}
        }
      ]
    },
    {
      "cell_type": "code",
      "source": [
        "# Outlier Removal Using Z-Score\n",
        "from scipy import stats\n",
        "\n",
        "# Compute the mean and standard deviation of the dataset\n",
        "mean = np.mean(df.Price)\n",
        "std = np.std(df.Price)\n",
        "\n",
        "# Calculate the Z-score for each observation\n",
        "z_scores = np.abs(stats.zscore(df.Price))\n",
        "\n",
        "# Define the threshold value for outliers (e.g. 3 or 2.5)\n",
        "threshold = 3\n",
        "\n",
        "# Identify the outliers\n",
        "outliers = df.Price[z_scores > threshold]\n",
        "\n",
        "# Remove the Outliers\n",
        "df = df[z_scores <= threshold]"
      ],
      "metadata": {
        "id": "Q3bjY4i5bTL7"
      },
      "execution_count": null,
      "outputs": []
    },
    {
      "cell_type": "code",
      "source": [
        "df.describe()"
      ],
      "metadata": {
        "colab": {
          "base_uri": "https://localhost:8080/",
          "height": 428
        },
        "id": "IJeZLOsnb9Rf",
        "outputId": "754119dd-0e24-4343-815d-202105ea1b3d"
      },
      "execution_count": null,
      "outputs": [
        {
          "output_type": "execute_result",
          "data": {
            "text/plain": [
              "                 id  number of bedrooms  number of bathrooms   living area  \\\n",
              "count  1.435600e+04        14356.000000         14356.000000  14356.000000   \n",
              "mean   6.762821e+09            3.362218             1.733700   2050.943160   \n",
              "std    6.124889e+03            0.928682             0.699651    844.429945   \n",
              "min    6.762810e+09            1.000000             0.000000    370.000000   \n",
              "25%    6.762816e+09            3.000000             1.000000   1430.000000   \n",
              "50%    6.762821e+09            3.000000             2.000000   1910.000000   \n",
              "75%    6.762826e+09            4.000000             2.000000   2530.000000   \n",
              "max    6.762832e+09           33.000000             7.000000   7480.000000   \n",
              "\n",
              "           lot area  number of floors  waterfront present  number of views  \\\n",
              "count  1.435600e+04      14356.000000        14356.000000     14356.000000   \n",
              "mean   1.494631e+04          1.446085            0.004667         0.205141   \n",
              "std    3.779462e+04          0.551952            0.068158         0.709730   \n",
              "min    5.200000e+02          1.000000            0.000000         0.000000   \n",
              "25%    5.000000e+03          1.000000            0.000000         0.000000   \n",
              "50%    7.560000e+03          1.000000            0.000000         0.000000   \n",
              "75%    1.058000e+04          2.000000            0.000000         0.000000   \n",
              "max    1.074218e+06          3.000000            1.000000         4.000000   \n",
              "\n",
              "       condition of the house  grade of the house  ...    Built Year  \\\n",
              "count            14356.000000        14356.000000  ...  14356.000000   \n",
              "mean                 3.428323            7.632070  ...   1970.891335   \n",
              "std                  0.662329            1.114441  ...     29.402226   \n",
              "min                  1.000000            4.000000  ...   1900.000000   \n",
              "25%                  3.000000            7.000000  ...   1951.000000   \n",
              "50%                  3.000000            7.000000  ...   1975.000000   \n",
              "75%                  4.000000            8.000000  ...   1996.000000   \n",
              "max                  5.000000           12.000000  ...   2015.000000   \n",
              "\n",
              "       Renovation Year    Postal Code     Lattitude     Longitude  \\\n",
              "count     14356.000000   14356.000000  14356.000000  14356.000000   \n",
              "mean         86.333380  122032.913277     52.791843   -114.403664   \n",
              "std         406.047488      19.046145      0.138435      0.142110   \n",
              "min           0.000000  122003.000000     52.385900   -114.709000   \n",
              "25%           0.000000  122017.000000     52.704175   -114.520000   \n",
              "50%           0.000000  122031.000000     52.804500   -114.421000   \n",
              "75%           0.000000  122048.000000     52.909700   -114.313750   \n",
              "max        2015.000000  122072.000000     53.007600   -113.505000   \n",
              "\n",
              "       living_area_renov  lot_area_renov  Number of schools nearby  \\\n",
              "count       14356.000000    14356.000000              14356.000000   \n",
              "mean         1971.889384    12674.479660                  2.010309   \n",
              "std           664.447881    26130.497784                  0.817199   \n",
              "min           460.000000      651.000000                  1.000000   \n",
              "25%          1480.000000     5050.000000                  1.000000   \n",
              "50%          1830.000000     7578.000000                  2.000000   \n",
              "75%          2350.000000    10029.250000                  3.000000   \n",
              "max          5790.000000   560617.000000                  3.000000   \n",
              "\n",
              "       Distance from the airport         Price  \n",
              "count               14356.000000  1.435600e+04  \n",
              "mean                   64.937657  5.065561e+05  \n",
              "std                     8.937303  2.590362e+05  \n",
              "min                    50.000000  7.800000e+04  \n",
              "25%                    57.000000  3.199500e+05  \n",
              "50%                    65.000000  4.450000e+05  \n",
              "75%                    73.000000  6.282500e+05  \n",
              "max                    80.000000  1.640000e+06  \n",
              "\n",
              "[8 rows x 22 columns]"
            ],
            "text/html": [
              "\n",
              "  <div id=\"df-e8d15195-afb8-4c61-af01-3da4f968192e\">\n",
              "    <div class=\"colab-df-container\">\n",
              "      <div>\n",
              "<style scoped>\n",
              "    .dataframe tbody tr th:only-of-type {\n",
              "        vertical-align: middle;\n",
              "    }\n",
              "\n",
              "    .dataframe tbody tr th {\n",
              "        vertical-align: top;\n",
              "    }\n",
              "\n",
              "    .dataframe thead th {\n",
              "        text-align: right;\n",
              "    }\n",
              "</style>\n",
              "<table border=\"1\" class=\"dataframe\">\n",
              "  <thead>\n",
              "    <tr style=\"text-align: right;\">\n",
              "      <th></th>\n",
              "      <th>id</th>\n",
              "      <th>number of bedrooms</th>\n",
              "      <th>number of bathrooms</th>\n",
              "      <th>living area</th>\n",
              "      <th>lot area</th>\n",
              "      <th>number of floors</th>\n",
              "      <th>waterfront present</th>\n",
              "      <th>number of views</th>\n",
              "      <th>condition of the house</th>\n",
              "      <th>grade of the house</th>\n",
              "      <th>...</th>\n",
              "      <th>Built Year</th>\n",
              "      <th>Renovation Year</th>\n",
              "      <th>Postal Code</th>\n",
              "      <th>Lattitude</th>\n",
              "      <th>Longitude</th>\n",
              "      <th>living_area_renov</th>\n",
              "      <th>lot_area_renov</th>\n",
              "      <th>Number of schools nearby</th>\n",
              "      <th>Distance from the airport</th>\n",
              "      <th>Price</th>\n",
              "    </tr>\n",
              "  </thead>\n",
              "  <tbody>\n",
              "    <tr>\n",
              "      <th>count</th>\n",
              "      <td>1.435600e+04</td>\n",
              "      <td>14356.000000</td>\n",
              "      <td>14356.000000</td>\n",
              "      <td>14356.000000</td>\n",
              "      <td>1.435600e+04</td>\n",
              "      <td>14356.000000</td>\n",
              "      <td>14356.000000</td>\n",
              "      <td>14356.000000</td>\n",
              "      <td>14356.000000</td>\n",
              "      <td>14356.000000</td>\n",
              "      <td>...</td>\n",
              "      <td>14356.000000</td>\n",
              "      <td>14356.000000</td>\n",
              "      <td>14356.000000</td>\n",
              "      <td>14356.000000</td>\n",
              "      <td>14356.000000</td>\n",
              "      <td>14356.000000</td>\n",
              "      <td>14356.000000</td>\n",
              "      <td>14356.000000</td>\n",
              "      <td>14356.000000</td>\n",
              "      <td>1.435600e+04</td>\n",
              "    </tr>\n",
              "    <tr>\n",
              "      <th>mean</th>\n",
              "      <td>6.762821e+09</td>\n",
              "      <td>3.362218</td>\n",
              "      <td>1.733700</td>\n",
              "      <td>2050.943160</td>\n",
              "      <td>1.494631e+04</td>\n",
              "      <td>1.446085</td>\n",
              "      <td>0.004667</td>\n",
              "      <td>0.205141</td>\n",
              "      <td>3.428323</td>\n",
              "      <td>7.632070</td>\n",
              "      <td>...</td>\n",
              "      <td>1970.891335</td>\n",
              "      <td>86.333380</td>\n",
              "      <td>122032.913277</td>\n",
              "      <td>52.791843</td>\n",
              "      <td>-114.403664</td>\n",
              "      <td>1971.889384</td>\n",
              "      <td>12674.479660</td>\n",
              "      <td>2.010309</td>\n",
              "      <td>64.937657</td>\n",
              "      <td>5.065561e+05</td>\n",
              "    </tr>\n",
              "    <tr>\n",
              "      <th>std</th>\n",
              "      <td>6.124889e+03</td>\n",
              "      <td>0.928682</td>\n",
              "      <td>0.699651</td>\n",
              "      <td>844.429945</td>\n",
              "      <td>3.779462e+04</td>\n",
              "      <td>0.551952</td>\n",
              "      <td>0.068158</td>\n",
              "      <td>0.709730</td>\n",
              "      <td>0.662329</td>\n",
              "      <td>1.114441</td>\n",
              "      <td>...</td>\n",
              "      <td>29.402226</td>\n",
              "      <td>406.047488</td>\n",
              "      <td>19.046145</td>\n",
              "      <td>0.138435</td>\n",
              "      <td>0.142110</td>\n",
              "      <td>664.447881</td>\n",
              "      <td>26130.497784</td>\n",
              "      <td>0.817199</td>\n",
              "      <td>8.937303</td>\n",
              "      <td>2.590362e+05</td>\n",
              "    </tr>\n",
              "    <tr>\n",
              "      <th>min</th>\n",
              "      <td>6.762810e+09</td>\n",
              "      <td>1.000000</td>\n",
              "      <td>0.000000</td>\n",
              "      <td>370.000000</td>\n",
              "      <td>5.200000e+02</td>\n",
              "      <td>1.000000</td>\n",
              "      <td>0.000000</td>\n",
              "      <td>0.000000</td>\n",
              "      <td>1.000000</td>\n",
              "      <td>4.000000</td>\n",
              "      <td>...</td>\n",
              "      <td>1900.000000</td>\n",
              "      <td>0.000000</td>\n",
              "      <td>122003.000000</td>\n",
              "      <td>52.385900</td>\n",
              "      <td>-114.709000</td>\n",
              "      <td>460.000000</td>\n",
              "      <td>651.000000</td>\n",
              "      <td>1.000000</td>\n",
              "      <td>50.000000</td>\n",
              "      <td>7.800000e+04</td>\n",
              "    </tr>\n",
              "    <tr>\n",
              "      <th>25%</th>\n",
              "      <td>6.762816e+09</td>\n",
              "      <td>3.000000</td>\n",
              "      <td>1.000000</td>\n",
              "      <td>1430.000000</td>\n",
              "      <td>5.000000e+03</td>\n",
              "      <td>1.000000</td>\n",
              "      <td>0.000000</td>\n",
              "      <td>0.000000</td>\n",
              "      <td>3.000000</td>\n",
              "      <td>7.000000</td>\n",
              "      <td>...</td>\n",
              "      <td>1951.000000</td>\n",
              "      <td>0.000000</td>\n",
              "      <td>122017.000000</td>\n",
              "      <td>52.704175</td>\n",
              "      <td>-114.520000</td>\n",
              "      <td>1480.000000</td>\n",
              "      <td>5050.000000</td>\n",
              "      <td>1.000000</td>\n",
              "      <td>57.000000</td>\n",
              "      <td>3.199500e+05</td>\n",
              "    </tr>\n",
              "    <tr>\n",
              "      <th>50%</th>\n",
              "      <td>6.762821e+09</td>\n",
              "      <td>3.000000</td>\n",
              "      <td>2.000000</td>\n",
              "      <td>1910.000000</td>\n",
              "      <td>7.560000e+03</td>\n",
              "      <td>1.000000</td>\n",
              "      <td>0.000000</td>\n",
              "      <td>0.000000</td>\n",
              "      <td>3.000000</td>\n",
              "      <td>7.000000</td>\n",
              "      <td>...</td>\n",
              "      <td>1975.000000</td>\n",
              "      <td>0.000000</td>\n",
              "      <td>122031.000000</td>\n",
              "      <td>52.804500</td>\n",
              "      <td>-114.421000</td>\n",
              "      <td>1830.000000</td>\n",
              "      <td>7578.000000</td>\n",
              "      <td>2.000000</td>\n",
              "      <td>65.000000</td>\n",
              "      <td>4.450000e+05</td>\n",
              "    </tr>\n",
              "    <tr>\n",
              "      <th>75%</th>\n",
              "      <td>6.762826e+09</td>\n",
              "      <td>4.000000</td>\n",
              "      <td>2.000000</td>\n",
              "      <td>2530.000000</td>\n",
              "      <td>1.058000e+04</td>\n",
              "      <td>2.000000</td>\n",
              "      <td>0.000000</td>\n",
              "      <td>0.000000</td>\n",
              "      <td>4.000000</td>\n",
              "      <td>8.000000</td>\n",
              "      <td>...</td>\n",
              "      <td>1996.000000</td>\n",
              "      <td>0.000000</td>\n",
              "      <td>122048.000000</td>\n",
              "      <td>52.909700</td>\n",
              "      <td>-114.313750</td>\n",
              "      <td>2350.000000</td>\n",
              "      <td>10029.250000</td>\n",
              "      <td>3.000000</td>\n",
              "      <td>73.000000</td>\n",
              "      <td>6.282500e+05</td>\n",
              "    </tr>\n",
              "    <tr>\n",
              "      <th>max</th>\n",
              "      <td>6.762832e+09</td>\n",
              "      <td>33.000000</td>\n",
              "      <td>7.000000</td>\n",
              "      <td>7480.000000</td>\n",
              "      <td>1.074218e+06</td>\n",
              "      <td>3.000000</td>\n",
              "      <td>1.000000</td>\n",
              "      <td>4.000000</td>\n",
              "      <td>5.000000</td>\n",
              "      <td>12.000000</td>\n",
              "      <td>...</td>\n",
              "      <td>2015.000000</td>\n",
              "      <td>2015.000000</td>\n",
              "      <td>122072.000000</td>\n",
              "      <td>53.007600</td>\n",
              "      <td>-113.505000</td>\n",
              "      <td>5790.000000</td>\n",
              "      <td>560617.000000</td>\n",
              "      <td>3.000000</td>\n",
              "      <td>80.000000</td>\n",
              "      <td>1.640000e+06</td>\n",
              "    </tr>\n",
              "  </tbody>\n",
              "</table>\n",
              "<p>8 rows × 22 columns</p>\n",
              "</div>\n",
              "      <button class=\"colab-df-convert\" onclick=\"convertToInteractive('df-e8d15195-afb8-4c61-af01-3da4f968192e')\"\n",
              "              title=\"Convert this dataframe to an interactive table.\"\n",
              "              style=\"display:none;\">\n",
              "        \n",
              "  <svg xmlns=\"http://www.w3.org/2000/svg\" height=\"24px\"viewBox=\"0 0 24 24\"\n",
              "       width=\"24px\">\n",
              "    <path d=\"M0 0h24v24H0V0z\" fill=\"none\"/>\n",
              "    <path d=\"M18.56 5.44l.94 2.06.94-2.06 2.06-.94-2.06-.94-.94-2.06-.94 2.06-2.06.94zm-11 1L8.5 8.5l.94-2.06 2.06-.94-2.06-.94L8.5 2.5l-.94 2.06-2.06.94zm10 10l.94 2.06.94-2.06 2.06-.94-2.06-.94-.94-2.06-.94 2.06-2.06.94z\"/><path d=\"M17.41 7.96l-1.37-1.37c-.4-.4-.92-.59-1.43-.59-.52 0-1.04.2-1.43.59L10.3 9.45l-7.72 7.72c-.78.78-.78 2.05 0 2.83L4 21.41c.39.39.9.59 1.41.59.51 0 1.02-.2 1.41-.59l7.78-7.78 2.81-2.81c.8-.78.8-2.07 0-2.86zM5.41 20L4 18.59l7.72-7.72 1.47 1.35L5.41 20z\"/>\n",
              "  </svg>\n",
              "      </button>\n",
              "      \n",
              "  <style>\n",
              "    .colab-df-container {\n",
              "      display:flex;\n",
              "      flex-wrap:wrap;\n",
              "      gap: 12px;\n",
              "    }\n",
              "\n",
              "    .colab-df-convert {\n",
              "      background-color: #E8F0FE;\n",
              "      border: none;\n",
              "      border-radius: 50%;\n",
              "      cursor: pointer;\n",
              "      display: none;\n",
              "      fill: #1967D2;\n",
              "      height: 32px;\n",
              "      padding: 0 0 0 0;\n",
              "      width: 32px;\n",
              "    }\n",
              "\n",
              "    .colab-df-convert:hover {\n",
              "      background-color: #E2EBFA;\n",
              "      box-shadow: 0px 1px 2px rgba(60, 64, 67, 0.3), 0px 1px 3px 1px rgba(60, 64, 67, 0.15);\n",
              "      fill: #174EA6;\n",
              "    }\n",
              "\n",
              "    [theme=dark] .colab-df-convert {\n",
              "      background-color: #3B4455;\n",
              "      fill: #D2E3FC;\n",
              "    }\n",
              "\n",
              "    [theme=dark] .colab-df-convert:hover {\n",
              "      background-color: #434B5C;\n",
              "      box-shadow: 0px 1px 3px 1px rgba(0, 0, 0, 0.15);\n",
              "      filter: drop-shadow(0px 1px 2px rgba(0, 0, 0, 0.3));\n",
              "      fill: #FFFFFF;\n",
              "    }\n",
              "  </style>\n",
              "\n",
              "      <script>\n",
              "        const buttonEl =\n",
              "          document.querySelector('#df-e8d15195-afb8-4c61-af01-3da4f968192e button.colab-df-convert');\n",
              "        buttonEl.style.display =\n",
              "          google.colab.kernel.accessAllowed ? 'block' : 'none';\n",
              "\n",
              "        async function convertToInteractive(key) {\n",
              "          const element = document.querySelector('#df-e8d15195-afb8-4c61-af01-3da4f968192e');\n",
              "          const dataTable =\n",
              "            await google.colab.kernel.invokeFunction('convertToInteractive',\n",
              "                                                     [key], {});\n",
              "          if (!dataTable) return;\n",
              "\n",
              "          const docLinkHtml = 'Like what you see? Visit the ' +\n",
              "            '<a target=\"_blank\" href=https://colab.research.google.com/notebooks/data_table.ipynb>data table notebook</a>'\n",
              "            + ' to learn more about interactive tables.';\n",
              "          element.innerHTML = '';\n",
              "          dataTable['output_type'] = 'display_data';\n",
              "          await google.colab.output.renderOutput(dataTable, element);\n",
              "          const docLink = document.createElement('div');\n",
              "          docLink.innerHTML = docLinkHtml;\n",
              "          element.appendChild(docLink);\n",
              "        }\n",
              "      </script>\n",
              "    </div>\n",
              "  </div>\n",
              "  "
            ]
          },
          "metadata": {},
          "execution_count": 173
        }
      ]
    },
    {
      "cell_type": "code",
      "source": [
        "X = df.drop([\"Price\"], axis = 1)\n",
        "y = df[\"Price\"]"
      ],
      "metadata": {
        "id": "MbpMLxzXoSGJ"
      },
      "execution_count": null,
      "outputs": []
    },
    {
      "cell_type": "code",
      "source": [
        "# Train-test splitting\n",
        "X_train, X_test, y_train, y_test = train_test_split(X, y, test_size = 0.2, random_state = 42)"
      ],
      "metadata": {
        "id": "vtRdH8Xmog-S"
      },
      "execution_count": null,
      "outputs": []
    },
    {
      "cell_type": "code",
      "source": [
        "# Scaling the input features\n",
        "scaler = MinMaxScaler()\n",
        "X_train = scaler.fit_transform(X_train)\n",
        "X_test = scaler.transform(X_test)"
      ],
      "metadata": {
        "id": "LnNIeHUEqVIe"
      },
      "execution_count": null,
      "outputs": []
    },
    {
      "cell_type": "code",
      "source": [
        "# kernel density plot\n",
        "sns.distplot(df[\"Price\"],fit=norm);\n",
        "plt.ylabel =('Frequency')\n",
        "plt.title = ('Price Distribution');"
      ],
      "metadata": {
        "colab": {
          "base_uri": "https://localhost:8080/",
          "height": 656
        },
        "id": "5NvXAY6NL-WM",
        "outputId": "7b200cbf-f04a-416f-d81d-8163e685d030"
      },
      "execution_count": null,
      "outputs": [
        {
          "output_type": "stream",
          "name": "stderr",
          "text": [
            "<ipython-input-179-19ed99972f4b>:2: UserWarning: \n",
            "\n",
            "`distplot` is a deprecated function and will be removed in seaborn v0.14.0.\n",
            "\n",
            "Please adapt your code to use either `displot` (a figure-level function with\n",
            "similar flexibility) or `histplot` (an axes-level function for histograms).\n",
            "\n",
            "For a guide to updating your code to use the new functions, please see\n",
            "https://gist.github.com/mwaskom/de44147ed2974457ad6372750bbe5751\n",
            "\n",
            "  sns.distplot(df[\"Price\"],fit=norm);\n"
          ]
        },
        {
          "output_type": "display_data",
          "data": {
            "text/plain": [
              "<Figure size 640x480 with 1 Axes>"
            ],
            "image/png": "[encoded data removed]"
          },
          "metadata": {}
        }
      ]
    },
    {
      "cell_type": "code",
      "source": [
        "#Get the fitted parameters used by the function\n",
        "(mu, sigma) = norm.fit(df[\"Price\"]);\n",
        "#QQ plot\n",
        "fig = plt.figure()\n",
        "res = stats.probplot(df[\"Price\"], plot=plt)\n",
        "plt.show()"
      ],
      "metadata": {
        "colab": {
          "base_uri": "https://localhost:8080/",
          "height": 445
        },
        "id": "6WQmL9GqMgcb",
        "outputId": "c1a2be23-6c4c-4213-9f5c-3412c2b11c43"
      },
      "execution_count": null,
      "outputs": [
        {
          "output_type": "display_data",
          "data": {
            "text/plain": [
              "<Figure size 640x480 with 1 Axes>"
            ],
            "image/png": "[encoded data removed]"
          },
          "metadata": {}
        }
      ]
    },
    {
      "cell_type": "code",
      "source": [
        "print(\"skewness: %f\" % df[\"Price\"].skew())\n",
        "print(\"kurtosis: %f\" % df[\"Price\"].kurt())"
      ],
      "metadata": {
        "colab": {
          "base_uri": "https://localhost:8080/"
        },
        "id": "HKqMILroNF-L",
        "outputId": "450a812f-13d2-493e-9dd5-994b45b9c242"
      },
      "execution_count": null,
      "outputs": [
        {
          "output_type": "stream",
          "name": "stdout",
          "text": [
            "skewness: 1.373092\n",
            "kurtosis: 2.269832\n"
          ]
        }
      ]
    },
    {
      "cell_type": "code",
      "source": [
        "# Applying log transform to fix the highly left skewed data\n",
        "y_train_log = np.log1p(y_train)\n",
        "y_test_log = np.log1p(y_test);"
      ],
      "metadata": {
        "id": "-2Q_OJK_Nj0z"
      },
      "execution_count": null,
      "outputs": []
    },
    {
      "cell_type": "code",
      "source": [
        "print(\"skewness: %f\" % y_train_log.skew())\n",
        "print(\"kurtosis: %f\" % y_train_log.kurt())"
      ],
      "metadata": {
        "colab": {
          "base_uri": "https://localhost:8080/"
        },
        "outputId": "d3bfe6c0-46d1-48b2-f855-50aad2dde3e3",
        "id": "i-hw0bneTgaR"
      },
      "execution_count": null,
      "outputs": [
        {
          "output_type": "stream",
          "name": "stdout",
          "text": [
            "skewness: 0.068531\n",
            "kurtosis: -0.205640\n"
          ]
        }
      ]
    },
    {
      "cell_type": "markdown",
      "source": [
        "### Building the ANN model"
      ],
      "metadata": {
        "id": "8UGPZZIKk1cu"
      }
    },
    {
      "cell_type": "code",
      "source": [
        "# Defining the Model\n",
        "model = Sequential([\n",
        "   Dense(32, activation='relu'),\n",
        "   Dense(128, activation='relu'),\n",
        "   Dense(128, activation='softplus'),\n",
        "   Dense(32, activation='relu'),\n",
        "   Dense(1, activation='linear')\n",
        "])"
      ],
      "metadata": {
        "id": "cBed3bKWgwy8"
      },
      "execution_count": null,
      "outputs": []
    },
    {
      "cell_type": "code",
      "source": [
        "# Compiling the model\n",
        "model.compile(optimizer = 'adam', loss = 'mae')"
      ],
      "metadata": {
        "id": "hoSKZdG8EIXG"
      },
      "execution_count": null,
      "outputs": []
    },
    {
      "cell_type": "code",
      "source": [
        "early_stop = EarlyStopping(monitor='val_loss', patience=10, verbose=1, restore_best_weights=True)"
      ],
      "metadata": {
        "id": "jZhV5NP4EJll"
      },
      "execution_count": null,
      "outputs": []
    },
    {
      "cell_type": "code",
      "source": [
        "# Fitting the model\n",
        "history = model.fit(X_train, y_train_log, validation_data=(X_test, y_test_log), epochs=100, batch_size=32, \n",
        "                    callbacks = [early_stop], \n",
        "                    verbose = 2,\n",
        "                    validation_split = 0.2)\n"
      ],
      "metadata": {
        "colab": {
          "base_uri": "https://localhost:8080/"
        },
        "id": "XIqKWOMXEN5B",
        "outputId": "c6dfa593-44c2-4d60-ead3-dd9aa1c0b5e1"
      },
      "execution_count": null,
      "outputs": [
        {
          "output_type": "stream",
          "name": "stdout",
          "text": [
            "Epoch 1/100\n",
            "359/359 - 3s - loss: 1.4191 - val_loss: 0.2061 - 3s/epoch - 8ms/step\n",
            "Epoch 2/100\n",
            "359/359 - 1s - loss: 0.1412 - val_loss: 0.0793 - 913ms/epoch - 3ms/step\n",
            "Epoch 3/100\n",
            "359/359 - 1s - loss: 0.0740 - val_loss: 0.1483 - 827ms/epoch - 2ms/step\n",
            "Epoch 4/100\n",
            "359/359 - 1s - loss: 0.0576 - val_loss: 0.0508 - 819ms/epoch - 2ms/step\n",
            "Epoch 5/100\n",
            "359/359 - 1s - loss: 0.0576 - val_loss: 0.0495 - 824ms/epoch - 2ms/step\n",
            "Epoch 6/100\n",
            "359/359 - 1s - loss: 0.0464 - val_loss: 0.0367 - 809ms/epoch - 2ms/step\n",
            "Epoch 7/100\n",
            "359/359 - 1s - loss: 0.0451 - val_loss: 0.0338 - 801ms/epoch - 2ms/step\n",
            "Epoch 8/100\n",
            "359/359 - 1s - loss: 0.0420 - val_loss: 0.0552 - 778ms/epoch - 2ms/step\n",
            "Epoch 9/100\n",
            "359/359 - 1s - loss: 0.0447 - val_loss: 0.0374 - 786ms/epoch - 2ms/step\n",
            "Epoch 10/100\n",
            "359/359 - 1s - loss: 0.0405 - val_loss: 0.0326 - 804ms/epoch - 2ms/step\n",
            "Epoch 11/100\n",
            "359/359 - 1s - loss: 0.0369 - val_loss: 0.0283 - 811ms/epoch - 2ms/step\n",
            "Epoch 12/100\n",
            "359/359 - 1s - loss: 0.0332 - val_loss: 0.0291 - 831ms/epoch - 2ms/step\n",
            "Epoch 13/100\n",
            "359/359 - 1s - loss: 0.0361 - val_loss: 0.0450 - 800ms/epoch - 2ms/step\n",
            "Epoch 14/100\n",
            "359/359 - 1s - loss: 0.0340 - val_loss: 0.0290 - 1s/epoch - 3ms/step\n",
            "Epoch 15/100\n",
            "359/359 - 1s - loss: 0.0301 - val_loss: 0.0238 - 1s/epoch - 4ms/step\n",
            "Epoch 16/100\n",
            "359/359 - 1s - loss: 0.0322 - val_loss: 0.0640 - 1s/epoch - 4ms/step\n",
            "Epoch 17/100\n",
            "359/359 - 1s - loss: 0.0340 - val_loss: 0.0325 - 980ms/epoch - 3ms/step\n",
            "Epoch 18/100\n",
            "359/359 - 1s - loss: 0.0305 - val_loss: 0.0407 - 820ms/epoch - 2ms/step\n",
            "Epoch 19/100\n",
            "359/359 - 1s - loss: 0.0321 - val_loss: 0.0212 - 834ms/epoch - 2ms/step\n",
            "Epoch 20/100\n",
            "359/359 - 1s - loss: 0.0303 - val_loss: 0.0185 - 811ms/epoch - 2ms/step\n",
            "Epoch 21/100\n",
            "359/359 - 1s - loss: 0.0271 - val_loss: 0.0203 - 834ms/epoch - 2ms/step\n",
            "Epoch 22/100\n",
            "359/359 - 1s - loss: 0.0276 - val_loss: 0.0249 - 795ms/epoch - 2ms/step\n",
            "Epoch 23/100\n",
            "359/359 - 1s - loss: 0.0335 - val_loss: 0.0674 - 843ms/epoch - 2ms/step\n",
            "Epoch 24/100\n",
            "359/359 - 1s - loss: 0.0234 - val_loss: 0.0178 - 790ms/epoch - 2ms/step\n",
            "Epoch 25/100\n",
            "359/359 - 1s - loss: 0.0286 - val_loss: 0.0295 - 824ms/epoch - 2ms/step\n",
            "Epoch 26/100\n",
            "359/359 - 1s - loss: 0.0279 - val_loss: 0.0298 - 804ms/epoch - 2ms/step\n",
            "Epoch 27/100\n",
            "359/359 - 1s - loss: 0.0270 - val_loss: 0.0498 - 776ms/epoch - 2ms/step\n",
            "Epoch 28/100\n",
            "359/359 - 1s - loss: 0.0331 - val_loss: 0.0156 - 819ms/epoch - 2ms/step\n",
            "Epoch 29/100\n",
            "359/359 - 1s - loss: 0.0266 - val_loss: 0.0280 - 1s/epoch - 3ms/step\n",
            "Epoch 30/100\n",
            "359/359 - 1s - loss: 0.0251 - val_loss: 0.0376 - 1s/epoch - 4ms/step\n",
            "Epoch 31/100\n",
            "359/359 - 1s - loss: 0.0257 - val_loss: 0.0371 - 1s/epoch - 4ms/step\n",
            "Epoch 32/100\n",
            "359/359 - 1s - loss: 0.0245 - val_loss: 0.0207 - 1s/epoch - 3ms/step\n",
            "Epoch 33/100\n",
            "359/359 - 1s - loss: 0.0257 - val_loss: 0.0235 - 816ms/epoch - 2ms/step\n",
            "Epoch 34/100\n",
            "359/359 - 1s - loss: 0.0254 - val_loss: 0.0234 - 824ms/epoch - 2ms/step\n",
            "Epoch 35/100\n",
            "359/359 - 1s - loss: 0.0236 - val_loss: 0.0235 - 817ms/epoch - 2ms/step\n",
            "Epoch 36/100\n",
            "359/359 - 1s - loss: 0.0265 - val_loss: 0.0185 - 774ms/epoch - 2ms/step\n",
            "Epoch 37/100\n",
            "359/359 - 1s - loss: 0.0251 - val_loss: 0.0358 - 823ms/epoch - 2ms/step\n",
            "Epoch 38/100\n",
            "359/359 - 1s - loss: 0.0209 - val_loss: 0.0151 - 839ms/epoch - 2ms/step\n",
            "Epoch 39/100\n",
            "359/359 - 1s - loss: 0.0285 - val_loss: 0.0235 - 803ms/epoch - 2ms/step\n",
            "Epoch 40/100\n",
            "359/359 - 1s - loss: 0.0231 - val_loss: 0.0145 - 789ms/epoch - 2ms/step\n",
            "Epoch 41/100\n",
            "359/359 - 1s - loss: 0.0220 - val_loss: 0.0209 - 822ms/epoch - 2ms/step\n",
            "Epoch 42/100\n",
            "359/359 - 1s - loss: 0.0246 - val_loss: 0.0570 - 819ms/epoch - 2ms/step\n",
            "Epoch 43/100\n",
            "359/359 - 1s - loss: 0.0234 - val_loss: 0.0131 - 801ms/epoch - 2ms/step\n",
            "Epoch 44/100\n",
            "359/359 - 1s - loss: 0.0205 - val_loss: 0.0267 - 1s/epoch - 3ms/step\n",
            "Epoch 45/100\n",
            "359/359 - 1s - loss: 0.0237 - val_loss: 0.0172 - 1s/epoch - 3ms/step\n",
            "Epoch 46/100\n",
            "359/359 - 1s - loss: 0.0277 - val_loss: 0.0266 - 1s/epoch - 3ms/step\n",
            "Epoch 47/100\n",
            "359/359 - 1s - loss: 0.0249 - val_loss: 0.0117 - 1s/epoch - 4ms/step\n",
            "Epoch 48/100\n",
            "359/359 - 1s - loss: 0.0261 - val_loss: 0.0166 - 819ms/epoch - 2ms/step\n",
            "Epoch 49/100\n",
            "359/359 - 1s - loss: 0.0177 - val_loss: 0.0298 - 787ms/epoch - 2ms/step\n",
            "Epoch 50/100\n",
            "359/359 - 1s - loss: 0.0219 - val_loss: 0.0189 - 814ms/epoch - 2ms/step\n",
            "Epoch 51/100\n",
            "359/359 - 1s - loss: 0.0229 - val_loss: 0.0163 - 823ms/epoch - 2ms/step\n",
            "Epoch 52/100\n",
            "359/359 - 1s - loss: 0.0200 - val_loss: 0.0134 - 788ms/epoch - 2ms/step\n",
            "Epoch 53/100\n",
            "359/359 - 1s - loss: 0.0231 - val_loss: 0.0139 - 815ms/epoch - 2ms/step\n",
            "Epoch 54/100\n",
            "359/359 - 1s - loss: 0.0220 - val_loss: 0.0369 - 769ms/epoch - 2ms/step\n",
            "Epoch 55/100\n",
            "359/359 - 1s - loss: 0.0197 - val_loss: 0.0321 - 788ms/epoch - 2ms/step\n",
            "Epoch 56/100\n",
            "359/359 - 1s - loss: 0.0198 - val_loss: 0.0128 - 820ms/epoch - 2ms/step\n",
            "Epoch 57/100\n",
            "Restoring model weights from the end of the best epoch: 47.\n",
            "359/359 - 1s - loss: 0.0207 - val_loss: 0.0141 - 801ms/epoch - 2ms/step\n",
            "Epoch 57: early stopping\n"
          ]
        }
      ]
    },
    {
      "cell_type": "markdown",
      "source": [
        "### Testing the Model\n"
      ],
      "metadata": {
        "id": "-kJr7YBkTyZ6"
      }
    },
    {
      "cell_type": "code",
      "source": [
        "# Evaluate the model\n",
        "test_loss = model.evaluate(X_test, y_test_log)\n",
        "print(\"Test Loss:\", test_loss)"
      ],
      "metadata": {
        "colab": {
          "base_uri": "https://localhost:8080/"
        },
        "id": "uffhcztoHoRf",
        "outputId": "4457fde1-84e2-4bfc-bcb8-ee6679301a52"
      },
      "execution_count": null,
      "outputs": [
        {
          "output_type": "stream",
          "name": "stdout",
          "text": [
            "90/90 [==============================] - 0s 2ms/step - loss: 0.0117\n",
            "Test Loss: 0.01166222058236599\n"
          ]
        }
      ]
    },
    {
      "cell_type": "code",
      "source": [
        "# Making predictions from the testset and applying inverse log for predictions\n",
        "y_pred_log = model.predict(X_test)\n",
        "y_pred = np.expm1(y_pred_log)"
      ],
      "metadata": {
        "colab": {
          "base_uri": "https://localhost:8080/"
        },
        "id": "Vh2sZugXID1Z",
        "outputId": "2ac09713-64b7-4600-a923-6e59c1daf329"
      },
      "execution_count": 195,
      "outputs": [
        {
          "output_type": "stream",
          "name": "stdout",
          "text": [
            "90/90 [==============================] - 0s 2ms/step\n"
          ]
        }
      ]
    },
    {
      "cell_type": "code",
      "source": [
        "# Flatten the data and appling inverse log for test\n",
        "y_test = np.expm1(y_test_log).values.flatten()\n",
        "y_pred = y_pred.flatten()"
      ],
      "metadata": {
        "id": "yxBRND12JFaI"
      },
      "execution_count": 196,
      "outputs": []
    },
    {
      "cell_type": "code",
      "source": [
        "# Calculate Mean Squared Error (MSE)\n",
        "mse = np.mean(np.square(y_test - y_pred))\n",
        "print(\"Mean Squared Error (MSE): \", mse)\n",
        "\n",
        "# Calculate Root Mean Squared Error (RMSE)\n",
        "rmse = np.sqrt(mse)\n",
        "print(\"Root Mean Squared Error (RMSE): \", rmse)\n",
        "\n",
        "# Calculate Mean Absolute Error (MAE)\n",
        "mae = mean_absolute_error(y_test, y_pred)\n",
        "print(\"Mean Absolute Error (MAE): \", mae)\n",
        "\n",
        "# Calculate R-Squared (R²) score\n",
        "r2 = r2_score(y_test, y_pred)\n",
        "print(\"R-Squared (R²) score: \", r2)"
      ],
      "metadata": {
        "colab": {
          "base_uri": "https://localhost:8080/"
        },
        "id": "XT004d2GIXIN",
        "outputId": "98627991-ffcf-42e5-fc7b-a20a3764db9b"
      },
      "execution_count": null,
      "outputs": [
        {
          "output_type": "stream",
          "name": "stdout",
          "text": [
            "Mean Squared Error (MSE):  94207854.59444474\n",
            "Root Mean Squared Error (RMSE):  9706.073077946856\n",
            "Mean Absolute Error (MAE):  4917.379825687675\n",
            "R-Squared (R²) score:  0.9985686216832247\n"
          ]
        }
      ]
    },
    {
      "cell_type": "code",
      "source": [
        "df_ans = pd.DataFrame({'y_test': y_test, 'y_pred': y_pred})\n",
        "print(df_ans)"
      ],
      "metadata": {
        "colab": {
          "base_uri": "https://localhost:8080/"
        },
        "id": "Mz8MAkidiBzN",
        "outputId": "403b1fed-3e67-4a58-b6b1-0091ea3bd70a"
      },
      "execution_count": 200,
      "outputs": [
        {
          "output_type": "stream",
          "name": "stdout",
          "text": [
            "        y_test        y_pred\n",
            "0     359950.0  358369.25000\n",
            "1     774000.0  763115.50000\n",
            "2     482000.0  482259.56250\n",
            "3     848000.0  840102.31250\n",
            "4     845000.0  844699.25000\n",
            "...        ...           ...\n",
            "2867  250000.0  256305.00000\n",
            "2868  549000.0  542695.06250\n",
            "2869  500000.0  497433.40625\n",
            "2870  585000.0  586133.93750\n",
            "2871  820000.0  821465.87500\n",
            "\n",
            "[2872 rows x 2 columns]\n"
          ]
        }
      ]
    }
  ]
}